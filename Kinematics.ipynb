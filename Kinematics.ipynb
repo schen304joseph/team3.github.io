{
  "cells": [
    {
      "cell_type": "markdown",
      "metadata": {
        "id": "view-in-github",
        "colab_type": "text"
      },
      "source": [
        "<a href=\"https://colab.research.google.com/github/schen304joseph/team3.github.io/blob/Zaki-Patel/Ankle_Kinematics.ipynb\" target=\"_parent\"><img src=\"https://colab.research.google.com/assets/colab-badge.svg\" alt=\"Open In Colab\"/></a>"
      ]
    },
    {
      "cell_type": "code",
      "execution_count": null,
      "metadata": {
        "id": "1Mm7zou1v-28",
        "colab": {
          "base_uri": "https://localhost:8080/"
        },
        "outputId": "cf04e9e9-f296-4705-9b17-d1c9e8a6b587"
      },
      "outputs": [
        {
          "output_type": "stream",
          "name": "stdout",
          "text": [
            "Collecting pynamics\n",
            "  Downloading pynamics-0.2.0-py2.py3-none-any.whl (87 kB)\n",
            "\u001b[K     |████████████████████████████████| 87 kB 1.8 MB/s \n",
            "\u001b[?25hRequirement already satisfied: matplotlib in /usr/local/lib/python3.7/dist-packages (from pynamics) (3.2.2)\n",
            "Requirement already satisfied: numpy in /usr/local/lib/python3.7/dist-packages (from pynamics) (1.21.5)\n",
            "Requirement already satisfied: sympy in /usr/local/lib/python3.7/dist-packages (from pynamics) (1.7.1)\n",
            "Requirement already satisfied: scipy in /usr/local/lib/python3.7/dist-packages (from pynamics) (1.4.1)\n",
            "Requirement already satisfied: kiwisolver>=1.0.1 in /usr/local/lib/python3.7/dist-packages (from matplotlib->pynamics) (1.3.2)\n",
            "Requirement already satisfied: python-dateutil>=2.1 in /usr/local/lib/python3.7/dist-packages (from matplotlib->pynamics) (2.8.2)\n",
            "Requirement already satisfied: cycler>=0.10 in /usr/local/lib/python3.7/dist-packages (from matplotlib->pynamics) (0.11.0)\n",
            "Requirement already satisfied: pyparsing!=2.0.4,!=2.1.2,!=2.1.6,>=2.0.1 in /usr/local/lib/python3.7/dist-packages (from matplotlib->pynamics) (3.0.7)\n",
            "Requirement already satisfied: six>=1.5 in /usr/local/lib/python3.7/dist-packages (from python-dateutil>=2.1->matplotlib->pynamics) (1.15.0)\n",
            "Requirement already satisfied: mpmath>=0.19 in /usr/local/lib/python3.7/dist-packages (from sympy->pynamics) (1.2.1)\n",
            "Installing collected packages: pynamics\n",
            "Successfully installed pynamics-0.2.0\n"
          ]
        }
      ],
      "source": [
        "\"\"\"\n",
        "Script: System Kinematics: Analysis of the Ankle joint\n",
        "Group Members: Shih-Heng Chen, Kevin Abishek, Mohammad Zaki Patel, Aakash Varma\n",
        "\"\"\"\n",
        "! pip install pynamics\n",
        "\n",
        "%matplotlib inline"
      ]
    },
    {
      "cell_type": "code",
      "execution_count": null,
      "metadata": {
        "id": "bFsMkXmYv-3B"
      },
      "outputs": [],
      "source": [
        "\"\"\"\n",
        "Importing libraries\n",
        "\"\"\"\n",
        "\n",
        "import pynamics\n",
        "from pynamics.frame import Frame\n",
        "from pynamics.variable_types import Differentiable,Constant\n",
        "from pynamics.system import System\n",
        "from pynamics.output import Output,PointsOutput\n",
        "import pynamics.integration\n",
        "import sympy\n",
        "import numpy\n",
        "import matplotlib.pyplot as plt\n",
        "plt.ion()\n",
        "from math import pi\n",
        "import scipy.optimize"
      ]
    },
    {
      "cell_type": "code",
      "execution_count": null,
      "metadata": {
        "id": "W6ZSgTMlv-3C"
      },
      "outputs": [],
      "source": [
        "system = System()\n",
        "pynamics.set_system(__name__,system)"
      ]
    },
    {
      "cell_type": "code",
      "execution_count": null,
      "metadata": {
        "id": "I_SnzzNEv-3C",
        "outputId": "98f218d8-f609-4f4c-d14f-3a480aff5452",
        "colab": {
          "base_uri": "https://localhost:8080/"
        }
      },
      "outputs": [
        {
          "output_type": "stream",
          "name": "stdout",
          "text": [
            "{lFoot: 0.2, hAnk: 0.051, lCalc: 0.053, lShank: 0.385}\n"
          ]
        }
      ],
      "source": [
        "\"\"\"\n",
        "Defining Link lengths:\n",
        "\n",
        "All lengths are in meters (m)\n",
        "\"\"\"\n",
        "\n",
        "lFoot = Constant(0.2,'lFoot',system)\n",
        "hAnk = Constant(0.051,'hAnk',system)\n",
        "lCalc = Constant(0.053,'lCalc',system)\n",
        "lShank = Constant(0.385,'lShank',system)\n",
        "\n",
        "print(system.constant_values)"
      ]
    },
    {
      "cell_type": "code",
      "execution_count": null,
      "metadata": {
        "id": "VYTDt_K4v-3D"
      },
      "outputs": [],
      "source": [
        "\"\"\"\n",
        "Defining differentiable variables:\n",
        "qA -> foot-ground angle\n",
        "qB -> foot-shank angle\n",
        "\"\"\"\n",
        "\n",
        "qA,qA_d,qA_dd = Differentiable('qA',system)\n",
        "qB,qB_d,qB_dd = Differentiable('qB',system)"
      ]
    },
    {
      "cell_type": "code",
      "execution_count": null,
      "metadata": {
        "id": "THu7yJzkv-3E",
        "outputId": "094331b6-8dcb-4855-b9bb-6f78173cfd77",
        "colab": {
          "base_uri": "https://localhost:8080/"
        }
      },
      "outputs": [
        {
          "output_type": "stream",
          "name": "stdout",
          "text": [
            "{qA: 0.3490658503988659, qB: 1.1344640137963142}\n"
          ]
        }
      ],
      "source": [
        "\"\"\"\n",
        "Defining initial conditions that represent toe-off during bipedal running:\n",
        "\"\"\"\n",
        "\n",
        "InitialAnkAngle = -25*pi/180\n",
        "center_qB_angle = 90*pi/180\n",
        "\n",
        "initialvalues = {}\n",
        "initialvalues[qA]= 20*pi/180\n",
        "initialvalues[qB]= InitialAnkAngle + center_qB_angle\n",
        "\n",
        "\"\"\"\n",
        "Processvalues represent system states through which kinematics data will be iteratively calculated\n",
        "\"\"\"\n",
        "\n",
        "processvalues = {}\n",
        "processvalues[qA]= 20*pi/180\n",
        "processvalues[qB]= InitialAnkAngle + center_qB_angle\n",
        "\n",
        "print(initialvalues)"
      ]
    },
    {
      "cell_type": "code",
      "execution_count": null,
      "metadata": {
        "id": "En84K-K-v-3F"
      },
      "outputs": [],
      "source": [
        "\"\"\"\n",
        "Creating Frames to be used in the system:\n",
        "N -> fixed frame\n",
        "Fank -> Frame of the ankle\n",
        "Fknee -> Frame of the knee\n",
        "\"\"\"\n",
        "\n",
        "N = Frame('N',system)\n",
        "Fank = Frame('Fank',system)\n",
        "Fknee = Frame('Fknee',system)"
      ]
    },
    {
      "cell_type": "code",
      "execution_count": null,
      "metadata": {
        "id": "Eq6ZIbELv-3G"
      },
      "outputs": [],
      "source": [
        "system.set_newtonian(N)"
      ]
    },
    {
      "cell_type": "code",
      "execution_count": null,
      "metadata": {
        "id": "Ws9qg3KMv-3H"
      },
      "outputs": [],
      "source": [
        "\"\"\"\n",
        "Defining frame orientations w.r.t. each other:\n",
        "\"\"\"\n",
        "\n",
        "Fank.rotate_fixed_axis(N,[0,0,1],qA,system)\n",
        "Fknee.rotate_fixed_axis(Fank,[0,0,1],qB,system)"
      ]
    },
    {
      "cell_type": "code",
      "execution_count": null,
      "metadata": {
        "id": "XJ0P810Dv-3I",
        "colab": {
          "base_uri": "https://localhost:8080/"
        },
        "outputId": "d7739c92-8314-4392-9351-63bb4001ed3d"
      },
      "outputs": [
        {
          "output_type": "stream",
          "name": "stdout",
          "text": [
            "lFoot*Fank.x\n"
          ]
        }
      ],
      "source": [
        "\"\"\"\n",
        "Defining lower limb landmark points:\n",
        "Ptoe -> Point of contact between foot and ground\n",
        "Pcalc -> Position of calcaneus bone\n",
        "Pank -> Position of ankle joint\n",
        "Pknee -> Position of knee joint\n",
        "\"\"\"\n",
        "\n",
        "Ptoe = 0*N.x + 0*N.y + 0*N.z\n",
        "Pcalc = Ptoe + lFoot*Fank.x\n",
        "Pank = Ptoe + ((lFoot - lCalc)*Fank.x) + hAnk*Fank.y\n",
        "Pknee = Pank + lShank*Fknee.x\n",
        "print(Pcalc)"
      ]
    },
    {
      "cell_type": "code",
      "execution_count": null,
      "metadata": {
        "id": "zqFZW2vzv-3I",
        "outputId": "581fe7b7-3076-43c3-e2cd-b02fbfec9888",
        "colab": {
          "base_uri": "https://localhost:8080/"
        }
      },
      "outputs": [
        {
          "output_type": "execute_result",
          "data": {
            "text/plain": [
              "[0,\n",
              " lFoot*Fank.x,\n",
              " hAnk*Fank.y + Fank.x*(-lCalc + lFoot),\n",
              " hAnk*Fank.y + lShank*Fknee.x + Fank.x*(-lCalc + lFoot)]"
            ]
          },
          "metadata": {},
          "execution_count": 11
        }
      ],
      "source": [
        "#Creating the list of points:\n",
        "\n",
        "points = list([Ptoe, Pcalc, Pank, Pknee])\n",
        "\n",
        "points"
      ]
    },
    {
      "cell_type": "code",
      "execution_count": null,
      "metadata": {
        "id": "H7no_1iVv-3J",
        "outputId": "ee90c3e1-2916-42c3-df98-1af26ea59812",
        "colab": {
          "base_uri": "https://localhost:8080/"
        }
      },
      "outputs": [
        {
          "output_type": "stream",
          "name": "stdout",
          "text": [
            "[0, 0.187938524157182, 0.120691787945919, 0.154246748903768]\n",
            "[0, 0.0684040286651337, 0.0982012847289546, 0.481736243494277]\n"
          ]
        }
      ],
      "source": [
        "\"\"\"\n",
        "Extracting x and y coordinates of the points. Will be used to plot a toe-off pose of the system:\n",
        "\"\"\"\n",
        "\n",
        "px = [pt.dot(N.x).subs(system.constant_values).subs(initialvalues) for pt in points]\n",
        "py = [pt.dot(N.y).subs(system.constant_values).subs(initialvalues) for pt in points]\n",
        "pxmuscle = [px[1], px[3]]\n",
        "pymuscle = [py[1], py[3]]\n",
        "\n",
        "print(px)\n",
        "print(py)"
      ]
    },
    {
      "cell_type": "code",
      "execution_count": null,
      "metadata": {
        "id": "XP6DmwSNv-3J",
        "outputId": "56f00ac8-e06c-4037-9974-4b19020e0024",
        "colab": {
          "base_uri": "https://localhost:8080/"
        }
      },
      "outputs": [
        {
          "output_type": "stream",
          "name": "stdout",
          "text": [
            "0.481736243494277\n",
            "0\n"
          ]
        }
      ],
      "source": [
        "\"\"\"\n",
        "Extracting plot parameters to set limits of axes:\n",
        "\"\"\"\n",
        "\n",
        "xlim = max(px)\n",
        "ylim = max(py)\n",
        "ulim = max([xlim, ylim])\n",
        "\n",
        "xlim = min(px)\n",
        "ylim = min(py)\n",
        "llim = min([xlim, ylim])\n",
        "\n",
        "print(ulim)\n",
        "print(llim)"
      ]
    },
    {
      "cell_type": "code",
      "execution_count": null,
      "metadata": {
        "id": "s0LuUXA_v-3J",
        "outputId": "df9b287d-b7da-4cbb-c1bb-16a9c2255e77",
        "colab": {
          "base_uri": "https://localhost:8080/",
          "height": 265
        }
      },
      "outputs": [
        {
          "output_type": "display_data",
          "data": {
            "text/plain": [
              "<Figure size 432x288 with 1 Axes>"
            ],
            "image/png": "[encoded data removed]"
          },
          "metadata": {
            "needs_background": "light"
          }
        }
      ],
      "source": [
        "\"\"\"\n",
        "Plotting toe-off pose of the ankle during bipedal running:\n",
        "\"\"\"\n",
        "\n",
        "fig = plt.figure()\n",
        "ax = fig.add_subplot(111)\n",
        "plt.plot(px,py,'b')\n",
        "plt.plot(pxmuscle,pymuscle,'r--')\n",
        "for ptx, pty in zip(px, py):\n",
        "    plt.plot(ptx,pty,'bo')\n",
        "plt.xlim(float(llim)-0.1,float(ulim)+0.1)\n",
        "plt.ylim(float(llim)-0.1,float(ulim)+0.1)\n",
        "ax.set_aspect('equal', adjustable='box')"
      ]
    },
    {
      "cell_type": "code",
      "execution_count": null,
      "metadata": {
        "id": "lREZyVXtv-3K"
      },
      "outputs": [],
      "source": [
        "\"\"\"\n",
        "Defining joint velocities:\n",
        "\n",
        "units in deg/s\n",
        "\"\"\"\n",
        "\n",
        "processvalues[qA_d] = 0\n",
        "processvalues[qB_d] = 1200*pi/180"
      ]
    },
    {
      "cell_type": "code",
      "execution_count": null,
      "metadata": {
        "id": "uhj4UmmMv-3K"
      },
      "outputs": [],
      "source": [
        "\"\"\"\n",
        "Defining limits of the ankle joint\n",
        "\n",
        "units in deg\n",
        "\"\"\"\n",
        "\n",
        "AnkAngle_llim = -15\n",
        "AnkAngle_ulim = 30"
      ]
    },
    {
      "cell_type": "code",
      "execution_count": null,
      "metadata": {
        "id": "KcU4Ucxvv-3K",
        "outputId": "0ec4ff90-300d-4080-fe4d-6f6a569a5e07",
        "colab": {
          "base_uri": "https://localhost:8080/"
        }
      },
      "outputs": [
        {
          "output_type": "execute_result",
          "data": {
            "text/plain": [
              "array([-15, -14, -13, -12, -11, -10,  -9,  -8,  -7,  -6,  -5,  -4,  -3,\n",
              "        -2,  -1,   0,   1,   2,   3,   4,   5,   6,   7,   8,   9,  10,\n",
              "        11,  12,  13,  14,  15,  16,  17,  18,  19,  20,  21,  22,  23,\n",
              "        24,  25,  26,  27,  28,  29])"
            ]
          },
          "metadata": {},
          "execution_count": 17
        }
      ],
      "source": [
        "\"\"\"\n",
        "Ankle_vals holds an array of ankle positions through which kinematics is to be analysed:\n",
        "\"\"\"\n",
        "\n",
        "Ankle_vals = numpy.arange(AnkAngle_llim, AnkAngle_ulim)\n",
        "\n",
        "Ankle_vals"
      ]
    },
    {
      "cell_type": "code",
      "execution_count": null,
      "metadata": {
        "id": "ReBOJJGpv-3L",
        "outputId": "7c8f5405-ccb7-4cfb-b99d-493f43435ccd",
        "colab": {
          "base_uri": "https://localhost:8080/"
        }
      },
      "outputs": [
        {
          "output_type": "execute_result",
          "data": {
            "text/plain": [
              "Fank.x*(lShank*qB_d*sin(qB) - qA_d*(-hAnk - lShank*sin(qB))) + Fank.y*(-lShank*qB_d*cos(qB) + qA_d*(lCalc - lShank*cos(qB)))"
            ]
          },
          "metadata": {},
          "execution_count": 18
        }
      ],
      "source": [
        "\"\"\"\n",
        "Muscle length and velocity vectorization:\n",
        "\n",
        "An ideal dorsiflexor muscle is considered to be connecting the knee to the calcaneus bone. The ankle frame of reference is used.\n",
        "\"\"\"\n",
        "\n",
        "Vmuscle_cont = (Pcalc.express(Fank) - Pknee.express(Fank)).time_derivative(N, system)\n",
        "\n",
        "Vmuscle_cont"
      ]
    },
    {
      "cell_type": "code",
      "execution_count": null,
      "metadata": {
        "id": "mjXw47UCv-3L"
      },
      "outputs": [],
      "source": [
        "\"\"\"\n",
        "Extracting muscle contraction velocities in the x,y and net directions:\n",
        "\"\"\"\n",
        "\n",
        "V_fiber_contractionX = []\n",
        "V_fiber_contractionY = []\n",
        "V_fiber_contractionNet = []\n",
        "\n",
        "for ang in Ankle_vals:\n",
        "    processvalues[qB]= (ang*pi/180) + center_qB_angle\n",
        "    vx = ((Vmuscle_cont.dot(Fank.x)).subs(system.constant_values).subs(processvalues)).evalf()\n",
        "    vy = ((Vmuscle_cont.dot(Fank.y)).subs(system.constant_values).subs(processvalues)).evalf()\n",
        "    V_fiber_contractionX.append(vx)\n",
        "    V_fiber_contractionY.append(vy)\n",
        "    V_fiber_contractionNet.append(((vx**2)+(vx**2))**0.5)"
      ]
    },
    {
      "cell_type": "code",
      "execution_count": null,
      "metadata": {
        "id": "Eg2CvaNiv-3L",
        "outputId": "659f0753-481a-4c1b-8d85-7eef87ab1c54",
        "colab": {
          "base_uri": "https://localhost:8080/",
          "height": 313
        }
      },
      "outputs": [
        {
          "output_type": "execute_result",
          "data": {
            "text/plain": [
              "Text(0, 0.5, 'm/s')"
            ]
          },
          "metadata": {},
          "execution_count": 20
        },
        {
          "output_type": "display_data",
          "data": {
            "text/plain": [
              "<Figure size 432x288 with 1 Axes>"
            ],
            "image/png": "[encoded data removed]"
          },
          "metadata": {
            "needs_background": "light"
          }
        }
      ],
      "source": [
        "# Plotting x direction contraction velocity\n",
        "plt.plot(Ankle_vals,V_fiber_contractionX,'b')\n",
        "plt.title(\"X direction velocity\")\n",
        "plt.xlabel(\"deg\")\n",
        "plt.ylabel(\"m/s\")"
      ]
    },
    {
      "cell_type": "code",
      "execution_count": null,
      "metadata": {
        "id": "Cab-Ekq3v-3M",
        "outputId": "ba454382-a8cf-486d-ff78-0bb88768fd6b",
        "colab": {
          "base_uri": "https://localhost:8080/",
          "height": 313
        }
      },
      "outputs": [
        {
          "output_type": "execute_result",
          "data": {
            "text/plain": [
              "Text(0, 0.5, 'm/s')"
            ]
          },
          "metadata": {},
          "execution_count": 21
        },
        {
          "output_type": "display_data",
          "data": {
            "text/plain": [
              "<Figure size 432x288 with 1 Axes>"
            ],
            "image/png": "[encoded data removed]"
          },
          "metadata": {
            "needs_background": "light"
          }
        }
      ],
      "source": [
        "# Plotting y direction contraction velocity\n",
        "plt.plot(Ankle_vals,V_fiber_contractionY,'b')\n",
        "plt.title(\"Y direction velocity\")\n",
        "plt.xlabel(\"deg\")\n",
        "plt.ylabel(\"m/s\")"
      ]
    },
    {
      "cell_type": "code",
      "execution_count": null,
      "metadata": {
        "id": "j6QaYHF2v-3M",
        "outputId": "ea8514ba-7548-4572-d9ea-0fffc647bb10",
        "colab": {
          "base_uri": "https://localhost:8080/",
          "height": 313
        }
      },
      "outputs": [
        {
          "output_type": "execute_result",
          "data": {
            "text/plain": [
              "Text(0, 0.5, 'm/s')"
            ]
          },
          "metadata": {},
          "execution_count": 22
        },
        {
          "output_type": "display_data",
          "data": {
            "text/plain": [
              "<Figure size 432x288 with 1 Axes>"
            ],
            "image/png": "[encoded data removed]"
          },
          "metadata": {
            "needs_background": "light"
          }
        }
      ],
      "source": [
        "# Plotting net contraction velocity\n",
        "plt.plot(Ankle_vals,V_fiber_contractionNet,'b')\n",
        "plt.title(\"Net contraction velocity\")\n",
        "plt.xlabel(\"deg\")\n",
        "plt.ylabel(\"m/s\")"
      ]
    },
    {
      "cell_type": "code",
      "execution_count": null,
      "metadata": {
        "id": "51D1y-onv-3M",
        "outputId": "5bf44bfb-cbec-47e5-9691-e3d552016d68",
        "colab": {
          "base_uri": "https://localhost:8080/"
        }
      },
      "outputs": [
        {
          "output_type": "stream",
          "name": "stdout",
          "text": [
            "-hAnk*qA_d*cos(qA) - lShank*(qA_d + qB_d)*sin(qA)*cos(qB) - lShank*(qA_d + qB_d)*sin(qB)*cos(qA) - qA_d*(-lCalc + lFoot)*sin(qA)\n",
            "-hAnk*qA_d*sin(qA) - lShank*(qA_d + qB_d)*sin(qA)*sin(qB) + lShank*(qA_d + qB_d)*cos(qA)*cos(qB) + qA_d*(-lCalc + lFoot)*cos(qA)\n",
            "Matrix([[-hAnk*cos(qA) - lShank*sin(qA)*cos(qB) - lShank*sin(qB)*cos(qA) + (lCalc - lFoot)*sin(qA), -lShank*sin(qA)*cos(qB) - lShank*sin(qB)*cos(qA)], [-hAnk*sin(qA) - lShank*sin(qA)*sin(qB) + lShank*cos(qA)*cos(qB) + (-lCalc + lFoot)*cos(qA), -lShank*sin(qA)*sin(qB) + lShank*cos(qA)*cos(qB)]])\n"
          ]
        }
      ],
      "source": [
        "\"\"\"\n",
        "Considering Knee as the end effector and the toe as fixed to the ground, the velocities of the knee as calculated using Jacobian\n",
        "Jk as follows:\n",
        "\"\"\"\n",
        "\n",
        "Vknee = Pknee.time_derivative(N, system)\n",
        "\n",
        "Vkx = Vknee.dot(N.x)\n",
        "Vky = Vknee.dot(N.y)\n",
        "\n",
        "print(Vkx)\n",
        "print(Vky)\n",
        "\n",
        "vk = sympy.Matrix((Vkx, Vky))\n",
        "qd = sympy.Matrix((qA_d, qB_d))\n",
        "\n",
        "Jk = vk.jacobian(qd)\n",
        "\n",
        "print(Jk)"
      ]
    },
    {
      "cell_type": "code",
      "execution_count": null,
      "metadata": {
        "id": "UAzt3-HZv-3N",
        "outputId": "79254f33-2604-48a6-ba23-589b0b78ecea",
        "colab": {
          "base_uri": "https://localhost:8080/"
        }
      },
      "outputs": [
        {
          "output_type": "stream",
          "name": "stdout",
          "text": [
            "Matrix([[-1.51161813925693], [-0.328838617386915]])\n"
          ]
        }
      ],
      "source": [
        "\"\"\"\n",
        "Subject weight, and accelerations of the knee are defined here. These are the loads acting on the knee (end effector):\n",
        "\n",
        "Units are:\n",
        "wt: Kg\n",
        "accel_x: m/(s^2)\n",
        "accel_y: m/(s^2)\n",
        "\n",
        "Ank_torque: Nm\n",
        "\"\"\"\n",
        "\n",
        "wt = 1\n",
        "accel_x = 0\n",
        "accel_y = -9.8\n",
        "\n",
        "Fnet = sympy.Matrix([[wt*accel_x], [wt*accel_y]])\n",
        "\n",
        "# Calculating Ankle torque:\n",
        "Ank_torque = ((Jk.T).subs(system.constant_values).subs(initialvalues))*Fnet\n",
        "\n",
        "print(Ank_torque)"
      ]
    },
    {
      "cell_type": "code",
      "execution_count": null,
      "metadata": {
        "id": "dRXlPythv-3N",
        "outputId": "284f2315-3812-4608-b5b7-74c4bdbc59ef",
        "colab": {
          "base_uri": "https://localhost:8080/"
        }
      },
      "outputs": [
        {
          "output_type": "stream",
          "name": "stdout",
          "text": [
            "-5.09009604560691\n"
          ]
        }
      ],
      "source": [
        "\"\"\"\n",
        "Using Vector opoerations, the torques (obtained from the previous step) are translated to muscle force data:\n",
        "Fmusclefiber is the tension force that actuates the ankle joint during toe-off.\n",
        "Units are [N/kg (if wt is 1kg), N (if otherwise)]\n",
        "\"\"\"\n",
        "\n",
        "P = Pank.express(Fank)\n",
        "A1 = Pcalc.express(Fank)\n",
        "A2 = Pknee.express(Fank)\n",
        "D = A1-A2\n",
        "\n",
        "# Calculating perpendicular distance from Ankle to muscle fiber\n",
        "d = (((A1-P).cross(D)).length().subs(system.constant_values).subs(initialvalues))/(D.length().subs(system.constant_values).subs(initialvalues))\n",
        "\n",
        "Fmusclefiber = Ank_torque[1]/d\n",
        "\n",
        "print(Fmusclefiber)"
      ]
    },
    {
      "cell_type": "code",
      "execution_count": null,
      "metadata": {
        "id": "nEbEMoP4v-3N"
      },
      "outputs": [],
      "source": [
        ""
      ]
    }
  ],
  "metadata": {
    "kernelspec": {
      "display_name": "Python 3",
      "language": "python",
      "name": "python3"
    },
    "language_info": {
      "codemirror_mode": {
        "name": "ipython",
        "version": 3
      },
      "file_extension": ".py",
      "mimetype": "text/x-python",
      "name": "python",
      "nbconvert_exporter": "python",
      "pygments_lexer": "ipython3",
      "version": "3.8.5"
    },
    "colab": {
      "name": "Ankle Kinematics.ipynb",
      "provenance": [],
      "include_colab_link": true
    }
  },
  "nbformat": 4,
  "nbformat_minor": 0
}
